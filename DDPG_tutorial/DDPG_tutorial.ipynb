{
 "cells": [
  {
   "cell_type": "code",
   "execution_count": 33,
   "metadata": {},
   "outputs": [
    {
     "name": "stdout",
     "output_type": "stream",
     "text": [
      "Using torch version: 1.4.0\n"
     ]
    }
   ],
   "source": [
    "import gym\n",
    "import torch\n",
    "from torch import nn #needed for building neural networks\n",
    "import torch.nn.functional as F #needed for activation functions\n",
    "import torch.optim as opt #needed for optimisation\n",
    "import random\n",
    "from copy import copy, deepcopy\n",
    "from collections import deque\n",
    "import numpy as np\n",
    "print(\"Using torch version: {}\".format(torch.__version__))"
   ]
  },
  {
   "cell_type": "markdown",
   "metadata": {},
   "source": [
    "## Gym 환경 \n",
    "### Pendulum 환경 불러오기"
   ]
  },
  {
   "cell_type": "code",
   "execution_count": 34,
   "metadata": {},
   "outputs": [],
   "source": [
    "env_name = \"Pendulum-v0\"\n",
    "env = gym.make(env_name)"
   ]
  },
  {
   "cell_type": "markdown",
   "metadata": {},
   "source": [
    "환경의 state_dim과 action_dim을 불러오기\n",
    "- Network 의 input dimension과 output dimension을 결정하기 위함"
   ]
  },
  {
   "cell_type": "code",
   "execution_count": 35,
   "metadata": {},
   "outputs": [],
   "source": [
    "state_dim = env.observation_space.shape[0]\n",
    "action_dim = env.action_space.shape[0]"
   ]
  },
  {
   "cell_type": "markdown",
   "metadata": {},
   "source": [
    "action space의 boundary 체크"
   ]
  },
  {
   "cell_type": "code",
   "execution_count": 36,
   "metadata": {},
   "outputs": [],
   "source": [
    "action_low = env.action_space.low\n",
    "action_high = env.action_space.high"
   ]
  },
  {
   "cell_type": "code",
   "execution_count": 37,
   "metadata": {},
   "outputs": [
    {
     "data": {
      "text/plain": [
       "(array([-2.], dtype=float32), array([2.], dtype=float32))"
      ]
     },
     "execution_count": 37,
     "metadata": {},
     "output_type": "execute_result"
    }
   ],
   "source": [
    "action_low, action_high"
   ]
  },
  {
   "cell_type": "markdown",
   "metadata": {},
   "source": [
    "# Main running code with random action"
   ]
  },
  {
   "cell_type": "code",
   "execution_count": 39,
   "metadata": {},
   "outputs": [],
   "source": [
    "initial_state = env.reset()\n",
    "  \n",
    "while True:\n",
    "    env.render()\n",
    "    action =  np.random.uniform(low=action_low, high=action_high)\n",
    "    state_next, reward, done, info = env.step(action)\n",
    "\n",
    "    if done:\n",
    "        break\n",
    "env.close()"
   ]
  },
  {
   "cell_type": "markdown",
   "metadata": {},
   "source": [
    "Note: pendulum 환경은 rendering이 있지만 우리가 사용할 환경에는 render option이 없습니다"
   ]
  },
  {
   "cell_type": "markdown",
   "metadata": {},
   "source": [
    "## Build Neural Network \n",
    "Actor : state를 기반으로 action을 만들어주는 네트워크\n",
    "- input dim : dimension of state\n",
    "- output dim : dimension of action\n",
    "\n",
    "Critic : state와 action을 기반으로 가치를 평가해주는 네트워크\n",
    "- input dim : dimension of state + dimension of action\n",
    "- output dim : 1"
   ]
  },
  {
   "cell_type": "code",
   "execution_count": 40,
   "metadata": {},
   "outputs": [],
   "source": [
    "class Actor(nn.Module):\n",
    "    def __init__(self, state_dim, action_dim, hidden_dim=[64, 64]):\n",
    "        super(Actor, self).__init__()\n",
    "        self.layers = nn.ModuleList()\n",
    "        self.activations = nn.ModuleList()\n",
    "\n",
    "        input_dims = [state_dim] + hidden_dim\n",
    "        output_dims = hidden_dim + [action_dim]\n",
    "\n",
    "        for in_dim, out_dim in zip(input_dims, output_dims):\n",
    "            self.layers.append(nn.Linear(in_dim, out_dim))\n",
    "\n",
    "        for i in range(len(hidden_dim)):\n",
    "            self.activations.append(nn.LeakyReLU())\n",
    "\n",
    "        self.activations.append(nn.Tanh())\n",
    "\n",
    "    def forward(self, state):\n",
    "        x = state\n",
    "        for l, activation in zip(self.layers, self.activations):\n",
    "            x = l(x)\n",
    "            x = activation(x)\n",
    "        return x"
   ]
  },
  {
   "cell_type": "code",
   "execution_count": 41,
   "metadata": {},
   "outputs": [],
   "source": [
    "class Critic(nn.Module):\n",
    "    def __init__(self, state_dim, action_dim, hidden_dim=[64, 64], output_dim=1):\n",
    "        super(Critic, self).__init__()\n",
    "        self.layers = nn.ModuleList()\n",
    "        self.activations = nn.ModuleList()\n",
    "\n",
    "        input_dims = [state_dim + action_dim] + hidden_dim\n",
    "        output_dims = hidden_dim + [output_dim]\n",
    "\n",
    "        for in_dim, out_dim in zip(input_dims, output_dims):\n",
    "            self.layers.append(nn.Linear(in_dim, out_dim))\n",
    "\n",
    "        for i in range(len(hidden_dim)):\n",
    "            self.activations.append(nn.LeakyReLU())\n",
    "\n",
    "        self.activations.append(nn.Identity())\n",
    "\n",
    "    def forward(self, state, action):\n",
    "        x = torch.cat([state, action], dim=-1)\n",
    "        for l, act in zip(self.layers, self.activations):\n",
    "            x = l(x)\n",
    "            x = act(x)\n",
    "\n",
    "        return x"
   ]
  },
  {
   "cell_type": "markdown",
   "metadata": {},
   "source": [
    "## Update Target Network \n",
    "\n",
    "## Target Network를 두는 이유와 update 하는 방법에 대한 수식 추가##\n",
    "\n"
   ]
  },
  {
   "cell_type": "code",
   "execution_count": 42,
   "metadata": {},
   "outputs": [],
   "source": [
    "def update_model(source, target, tau):\n",
    "    for src_param, target_param in zip(source.parameters(), target.parameters()):\n",
    "        target_param.data.copy_(tau * src_param.data + (1.0 - tau) * target_param.data)"
   ]
  },
  {
   "cell_type": "markdown",
   "metadata": {},
   "source": [
    "# Replay Memory\n",
    "\n",
    "state transition:  $(s, a, r, s', terminal)$ 을 저장"
   ]
  },
  {
   "cell_type": "code",
   "execution_count": 43,
   "metadata": {},
   "outputs": [],
   "source": [
    "class ReplayMemory:\n",
    "    def __init__(self, length):\n",
    "        self.memory = deque(maxlen=length)\n",
    "\n",
    "    def __len__(self):\n",
    "        return len(self.memory)\n",
    "\n",
    "    def save_memory(self, transition):\n",
    "        self.memory.append(transition)\n",
    "\n",
    "    def sample(self, size):\n",
    "        sample = random.sample(self.memory, size)\n",
    "\n",
    "        state = [i[0] for i in sample]\n",
    "        action = [i[1] for i in sample]\n",
    "        reward = [i[2] for i in sample]\n",
    "        next_state = [i[3] for i in sample]\n",
    "        terminal = [i[4] for i in sample]\n",
    "\n",
    "        state = np.stack(state)\n",
    "        state = torch.Tensor(state).squeeze()\n",
    "\n",
    "        next_state = np.stack(next_state)\n",
    "        next_state = torch.Tensor(next_state).squeeze()\n",
    "\n",
    "        reward = np.array(reward)\n",
    "        reward = torch.tensor(reward, dtype=torch.float32).reshape(-1, 1)\n",
    "\n",
    "        terminal = np.array(terminal).astype(int)\n",
    "        terminal = torch.tensor(terminal).reshape(-1, 1)\n",
    "\n",
    "        action = np.array(action)\n",
    "        action = torch.tensor(action, dtype=torch.float32)\n",
    "\n",
    "        return state, action, reward, next_state, terminal"
   ]
  },
  {
   "cell_type": "markdown",
   "metadata": {},
   "source": [
    "# OU process\n",
    "\n",
    "- 시간과 correlated 된 noise를 주기 위해서 OU process를 이용\n",
    "- noise를 통해서 exploration을 진행"
   ]
  },
  {
   "cell_type": "code",
   "execution_count": 44,
   "metadata": {},
   "outputs": [],
   "source": [
    "class OUNoise:\n",
    "    \"\"\"\n",
    "    Taken from https://github.com/vitchyr/rlkit/blob/master/rlkit/exploration_strategies/ou_strategy.py\n",
    "    \"\"\"\n",
    "\n",
    "    def __init__(self, action_space, mu=0.0, theta=0.15, max_sigma=0.3, min_sigma=0.3, decay_period=1000):\n",
    "        self.mu = mu\n",
    "        self.theta = theta\n",
    "        self.sigma = max_sigma\n",
    "        self.max_sigma = max_sigma\n",
    "        self.min_sigma = min_sigma\n",
    "        self.decay_period = decay_period\n",
    "        self.action_dim = action_space\n",
    "        self.reset()\n",
    "\n",
    "        self.epsilon = 1.0\n",
    "        self.epsilon_decay = 0.00001\n",
    "        self.epsilon_min = 0.05\n",
    "\n",
    "    def reset(self):\n",
    "        self.state = np.ones(self.action_dim) * self.mu\n",
    "\n",
    "    def evolve_state(self):\n",
    "        x = self.state\n",
    "        dx = self.theta * (self.mu - x) + self.sigma * np.random.randn(self.action_dim)\n",
    "        self.state = x + dx\n",
    "        return self.state\n",
    "\n",
    "    def get_action(self, action, t=0):\n",
    "        ou_state = self.evolve_state() * self.epsilon\n",
    "\n",
    "        self.epsilon -= self.epsilon_decay\n",
    "        if self.epsilon < self.epsilon_min:\n",
    "            self.epsilon = self.epsilon_min\n",
    "\n",
    "        self.sigma = self.max_sigma - (self.max_sigma - self.min_sigma) * min(1.0, t / self.decay_period)\n",
    "        return np.clip(action + ou_state, -1.0, 1.0)"
   ]
  },
  {
   "cell_type": "markdown",
   "metadata": {},
   "source": [
    "## Build Agent - Agent 에 포함되어야 하는 함수들\n",
    "#### 1. get_action\n",
    "* input: state\n",
    "* output: action\n",
    "\n",
    "    state를 받아서 actor을 통과시켜 action을 return하는 함수\n",
    "    \n",
    "#### 2. save_transition\n",
    "* input: (s, a, r, s', terminal)\n",
    "\n",
    "    memory에 transition을 저장하는 함수\n",
    "    \n",
    "#### 3. train_start\n",
    "* output: True or False\n",
    "\n",
    "    memory size가 batch size보다 커서 학습을 시작할 수 있는지 체크하는 함수\n",
    "\n",
    "#### 4. fit\n",
    "* output : critic loss, actor loss\n",
    "\n",
    "    actor와 critic을 학습하는 함수"
   ]
  },
  {
   "cell_type": "code",
   "execution_count": 45,
   "metadata": {},
   "outputs": [],
   "source": [
    "class DDPGAgent(nn.Module):\n",
    "    def __init__(self, state_dim, action_dim, action_min, action_max, gamma=0.99):\n",
    "        super(DDPGAgent, self).__init__()\n",
    "        self.action_min = np.array(action_min)\n",
    "        self.action_max = np.array(action_max)\n",
    "\n",
    "        self.gamma = gamma\n",
    "        self.ou_noise = OUNoise(action_dim)\n",
    "\n",
    "        self.actor = Actor(state_dim, action_dim)\n",
    "        self.critic = Critic(state_dim, action_dim)\n",
    "\n",
    "        self.actor_target = Actor(state_dim, action_dim)\n",
    "        self.critic_target = Critic(state_dim, action_dim)\n",
    "\n",
    "        update_model(self.actor, self.actor_target, tau=1.0)\n",
    "        update_model(self.critic, self.critic_target, tau=1.0)\n",
    "\n",
    "        self.actor_optimizer = torch.optim.Adam(self.actor.parameters(), lr=1e-4)\n",
    "        self.critic_optimizer = torch.optim.Adam(self.critic.parameters(), lr=1e-3)\n",
    "\n",
    "        self.memory = ReplayMemory(5000)\n",
    "        self.batch_size = 50\n",
    "        self.tau = 0.005\n",
    "\n",
    "        self.loss_ftn = nn.MSELoss()\n",
    "\n",
    "    def get_action(self, state, t=0):\n",
    "        action_before_norm = self.actor(state).detach().numpy()\n",
    "        action_before_norm = self.ou_noise.get_action(action_before_norm, t)\n",
    "\n",
    "        action_after_norm = (action_before_norm + 1) / 2 * (self.action_max - self.action_min) + self.action_min\n",
    "\n",
    "        return action_before_norm, action_after_norm\n",
    "\n",
    "    def save_transition(self, transition):\n",
    "        self.memory.save_memory(transition)\n",
    "\n",
    "    def train_start(self):\n",
    "        return len(self.memory) > self.batch_size\n",
    "\n",
    "    def fit(self):\n",
    "        state, action, reward, next_state, terminal = self.memory.sample(self.batch_size)\n",
    "\n",
    "        next_q_val = self.critic_target(next_state, self.actor_target(next_state))\n",
    "        target_q = reward + self.gamma * (1 - terminal) * next_q_val\n",
    "        q = self.critic(state, action)\n",
    "\n",
    "        # Critic loss\n",
    "        value_loss = self.loss_ftn(q, target_q)\n",
    "\n",
    "        # Critic update\n",
    "        self.critic_optimizer.zero_grad()\n",
    "        value_loss.backward()\n",
    "        self.critic_optimizer.step()\n",
    "\n",
    "        # Actor loss\n",
    "        policy_loss = -self.critic(state, self.actor(state))\n",
    "        policy_loss = policy_loss.mean()\n",
    "\n",
    "        # Actor update\n",
    "        self.actor_optimizer.zero_grad()\n",
    "        policy_loss.backward()\n",
    "        self.actor_optimizer.step()\n",
    "\n",
    "        update_model(self.critic, self.critic_target, tau=self.tau)\n",
    "        update_model(self.actor, self.actor_target, tau=self.tau)\n",
    "\n",
    "        return value_loss.item(), policy_loss.item()"
   ]
  },
  {
   "cell_type": "markdown",
   "metadata": {},
   "source": [
    "## 이제 Agent를 학습시켜볼까요?"
   ]
  },
  {
   "cell_type": "code",
   "execution_count": 46,
   "metadata": {},
   "outputs": [
    {
     "name": "stdout",
     "output_type": "stream",
     "text": [
      "episode :    0, reward : -1192.472, critic loss : 15.142, actor loss : 5.422\n",
      "episode :    1, reward : -1732.829, critic loss : 1.013, actor loss : 10.346\n",
      "episode :    2, reward : -1532.807, critic loss : 0.616, actor loss : 16.071\n",
      "episode :    3, reward : -1535.462, critic loss : 1.147, actor loss : 22.224\n",
      "episode :    4, reward : -1410.251, critic loss : 1.896, actor loss : 28.081\n",
      "episode :    5, reward : -1619.620, critic loss : 3.772, actor loss : 34.461\n",
      "episode :    6, reward : -1449.244, critic loss : 4.306, actor loss : 41.124\n",
      "episode :    7, reward : -1539.590, critic loss : 7.890, actor loss : 47.370\n",
      "episode :    8, reward : -1490.110, critic loss : 12.624, actor loss : 53.277\n",
      "episode :    9, reward : -1407.200, critic loss : 17.348, actor loss : 59.129\n",
      "episode :   10, reward : -1448.504, critic loss : 20.677, actor loss : 64.546\n",
      "episode :   11, reward : -1284.095, critic loss : 25.474, actor loss : 69.832\n",
      "episode :   12, reward : -1375.640, critic loss : 27.162, actor loss : 74.048\n",
      "episode :   13, reward : -1188.532, critic loss : 28.676, actor loss : 78.394\n",
      "episode :   14, reward : -945.188, critic loss : 30.020, actor loss : 81.744\n",
      "episode :   15, reward : -1111.911, critic loss : 32.160, actor loss : 85.686\n",
      "episode :   16, reward : -1093.819, critic loss : 48.722, actor loss : 88.881\n",
      "episode :   17, reward : -1355.673, critic loss : 47.438, actor loss : 91.995\n",
      "episode :   18, reward : -1349.560, critic loss : 42.999, actor loss : 95.863\n",
      "episode :   19, reward : -826.544, critic loss : 58.512, actor loss : 98.096\n",
      "episode :   20, reward : -1012.637, critic loss : 53.290, actor loss : 100.887\n",
      "episode :   21, reward : -795.924, critic loss : 60.927, actor loss : 102.144\n",
      "episode :   22, reward : -925.645, critic loss : 42.251, actor loss : 105.078\n",
      "episode :   23, reward : -920.390, critic loss : 70.087, actor loss : 106.870\n",
      "episode :   24, reward : -916.842, critic loss : 78.104, actor loss : 108.774\n",
      "episode :   25, reward : -1048.827, critic loss : 69.458, actor loss : 109.724\n",
      "episode :   26, reward : -646.259, critic loss : 84.264, actor loss : 111.941\n",
      "episode :   27, reward : -1018.528, critic loss : 80.953, actor loss : 112.271\n",
      "episode :   28, reward : -915.063, critic loss : 56.956, actor loss : 113.209\n",
      "episode :   29, reward : -617.493, critic loss : 72.789, actor loss : 113.442\n",
      "episode :   30, reward : -779.855, critic loss : 67.252, actor loss : 113.219\n",
      "episode :   31, reward : -765.384, critic loss : 67.043, actor loss : 112.278\n",
      "episode :   32, reward : -507.372, critic loss : 67.223, actor loss : 111.954\n",
      "episode :   33, reward : -455.043, critic loss : 73.416, actor loss : 110.838\n",
      "episode :   34, reward : -653.500, critic loss : 75.908, actor loss : 108.918\n",
      "episode :   35, reward : -760.174, critic loss : 59.259, actor loss : 107.940\n",
      "episode :   36, reward : -345.748, critic loss : 73.187, actor loss : 106.763\n",
      "episode :   37, reward : -738.602, critic loss : 62.343, actor loss : 106.701\n",
      "episode :   38, reward : -415.788, critic loss : 44.692, actor loss : 104.210\n",
      "episode :   39, reward : -370.302, critic loss : 60.617, actor loss : 103.747\n",
      "episode :   40, reward : -511.133, critic loss : 73.536, actor loss : 102.062\n",
      "episode :   41, reward : -437.616, critic loss : 76.898, actor loss : 100.997\n",
      "episode :   42, reward : -1017.575, critic loss : 74.738, actor loss : 100.235\n",
      "episode :   43, reward : -254.509, critic loss : 69.930, actor loss : 99.240\n",
      "episode :   44, reward : -256.241, critic loss : 55.443, actor loss : 97.365\n",
      "episode :   45, reward : -247.139, critic loss : 70.592, actor loss : 95.480\n",
      "episode :   46, reward : -503.362, critic loss : 56.640, actor loss : 92.941\n",
      "episode :   47, reward : -665.336, critic loss : 54.885, actor loss : 92.889\n",
      "episode :   48, reward : -739.376, critic loss : 57.404, actor loss : 93.572\n",
      "episode :   49, reward : -505.421, critic loss : 43.550, actor loss : 91.435\n",
      "episode :   50, reward : -254.780, critic loss : 48.645, actor loss : 88.192\n",
      "episode :   51, reward : -122.060, critic loss : 37.255, actor loss : 85.928\n",
      "episode :   52, reward : -242.249, critic loss : 52.551, actor loss : 80.577\n",
      "episode :   53, reward : -248.609, critic loss : 48.474, actor loss : 76.974\n",
      "episode :   54, reward : -250.731, critic loss : 25.892, actor loss : 75.574\n"
     ]
    },
    {
     "ename": "KeyboardInterrupt",
     "evalue": "",
     "traceback": [
      "\u001b[1;31m---------------------------------------------------------------------------\u001b[0m",
      "\u001b[1;31mKeyboardInterrupt\u001b[0m                         Traceback (most recent call last)",
      "\u001b[1;32m<ipython-input-46-c68df7f489b0>\u001b[0m in \u001b[0;36m<module>\u001b[1;34m()\u001b[0m\n\u001b[0;32m     42\u001b[0m \u001b[1;33m\u001b[0m\u001b[0m\n\u001b[0;32m     43\u001b[0m         \u001b[1;32mif\u001b[0m \u001b[0magent\u001b[0m\u001b[1;33m.\u001b[0m\u001b[0mtrain_start\u001b[0m\u001b[1;33m(\u001b[0m\u001b[1;33m)\u001b[0m\u001b[1;33m:\u001b[0m\u001b[1;33m\u001b[0m\u001b[0m\n\u001b[1;32m---> 44\u001b[1;33m             \u001b[0mcritic_loss\u001b[0m\u001b[1;33m,\u001b[0m \u001b[0mactor_loss\u001b[0m \u001b[1;33m=\u001b[0m \u001b[0magent\u001b[0m\u001b[1;33m.\u001b[0m\u001b[0mfit\u001b[0m\u001b[1;33m(\u001b[0m\u001b[1;33m)\u001b[0m\u001b[1;33m\u001b[0m\u001b[0m\n\u001b[0m\u001b[0;32m     45\u001b[0m \u001b[1;33m\u001b[0m\u001b[0m\n\u001b[0;32m     46\u001b[0m             \u001b[0mcritic_loss_epi\u001b[0m\u001b[1;33m.\u001b[0m\u001b[0mappend\u001b[0m\u001b[1;33m(\u001b[0m\u001b[0mcritic_loss\u001b[0m\u001b[1;33m)\u001b[0m\u001b[1;33m\u001b[0m\u001b[0m\n",
      "\u001b[1;32m<ipython-input-45-a6b5e0a65ce9>\u001b[0m in \u001b[0;36mfit\u001b[1;34m(self)\u001b[0m\n\u001b[0;32m     44\u001b[0m         \u001b[0mstate\u001b[0m\u001b[1;33m,\u001b[0m \u001b[0maction\u001b[0m\u001b[1;33m,\u001b[0m \u001b[0mreward\u001b[0m\u001b[1;33m,\u001b[0m \u001b[0mnext_state\u001b[0m\u001b[1;33m,\u001b[0m \u001b[0mterminal\u001b[0m \u001b[1;33m=\u001b[0m \u001b[0mself\u001b[0m\u001b[1;33m.\u001b[0m\u001b[0mmemory\u001b[0m\u001b[1;33m.\u001b[0m\u001b[0msample\u001b[0m\u001b[1;33m(\u001b[0m\u001b[0mself\u001b[0m\u001b[1;33m.\u001b[0m\u001b[0mbatch_size\u001b[0m\u001b[1;33m)\u001b[0m\u001b[1;33m\u001b[0m\u001b[0m\n\u001b[0;32m     45\u001b[0m \u001b[1;33m\u001b[0m\u001b[0m\n\u001b[1;32m---> 46\u001b[1;33m         \u001b[0mnext_q_val\u001b[0m \u001b[1;33m=\u001b[0m \u001b[0mself\u001b[0m\u001b[1;33m.\u001b[0m\u001b[0mcritic_target\u001b[0m\u001b[1;33m(\u001b[0m\u001b[0mnext_state\u001b[0m\u001b[1;33m,\u001b[0m \u001b[0mself\u001b[0m\u001b[1;33m.\u001b[0m\u001b[0mactor_target\u001b[0m\u001b[1;33m(\u001b[0m\u001b[0mnext_state\u001b[0m\u001b[1;33m)\u001b[0m\u001b[1;33m)\u001b[0m\u001b[1;33m\u001b[0m\u001b[0m\n\u001b[0m\u001b[0;32m     47\u001b[0m         \u001b[0mtarget_q\u001b[0m \u001b[1;33m=\u001b[0m \u001b[0mreward\u001b[0m \u001b[1;33m+\u001b[0m \u001b[0mself\u001b[0m\u001b[1;33m.\u001b[0m\u001b[0mgamma\u001b[0m \u001b[1;33m*\u001b[0m \u001b[1;33m(\u001b[0m\u001b[1;36m1\u001b[0m \u001b[1;33m-\u001b[0m \u001b[0mterminal\u001b[0m\u001b[1;33m)\u001b[0m \u001b[1;33m*\u001b[0m \u001b[0mnext_q_val\u001b[0m\u001b[1;33m\u001b[0m\u001b[0m\n\u001b[0;32m     48\u001b[0m         \u001b[0mq\u001b[0m \u001b[1;33m=\u001b[0m \u001b[0mself\u001b[0m\u001b[1;33m.\u001b[0m\u001b[0mcritic\u001b[0m\u001b[1;33m(\u001b[0m\u001b[0mstate\u001b[0m\u001b[1;33m,\u001b[0m \u001b[0maction\u001b[0m\u001b[1;33m)\u001b[0m\u001b[1;33m\u001b[0m\u001b[0m\n",
      "\u001b[1;32m~\\Anaconda3\\lib\\site-packages\\torch\\nn\\modules\\module.py\u001b[0m in \u001b[0;36m__call__\u001b[1;34m(self, *input, **kwargs)\u001b[0m\n\u001b[0;32m    530\u001b[0m             \u001b[0mresult\u001b[0m \u001b[1;33m=\u001b[0m \u001b[0mself\u001b[0m\u001b[1;33m.\u001b[0m\u001b[0m_slow_forward\u001b[0m\u001b[1;33m(\u001b[0m\u001b[1;33m*\u001b[0m\u001b[0minput\u001b[0m\u001b[1;33m,\u001b[0m \u001b[1;33m**\u001b[0m\u001b[0mkwargs\u001b[0m\u001b[1;33m)\u001b[0m\u001b[1;33m\u001b[0m\u001b[0m\n\u001b[0;32m    531\u001b[0m         \u001b[1;32melse\u001b[0m\u001b[1;33m:\u001b[0m\u001b[1;33m\u001b[0m\u001b[0m\n\u001b[1;32m--> 532\u001b[1;33m             \u001b[0mresult\u001b[0m \u001b[1;33m=\u001b[0m \u001b[0mself\u001b[0m\u001b[1;33m.\u001b[0m\u001b[0mforward\u001b[0m\u001b[1;33m(\u001b[0m\u001b[1;33m*\u001b[0m\u001b[0minput\u001b[0m\u001b[1;33m,\u001b[0m \u001b[1;33m**\u001b[0m\u001b[0mkwargs\u001b[0m\u001b[1;33m)\u001b[0m\u001b[1;33m\u001b[0m\u001b[0m\n\u001b[0m\u001b[0;32m    533\u001b[0m         \u001b[1;32mfor\u001b[0m \u001b[0mhook\u001b[0m \u001b[1;32min\u001b[0m \u001b[0mself\u001b[0m\u001b[1;33m.\u001b[0m\u001b[0m_forward_hooks\u001b[0m\u001b[1;33m.\u001b[0m\u001b[0mvalues\u001b[0m\u001b[1;33m(\u001b[0m\u001b[1;33m)\u001b[0m\u001b[1;33m:\u001b[0m\u001b[1;33m\u001b[0m\u001b[0m\n\u001b[0;32m    534\u001b[0m             \u001b[0mhook_result\u001b[0m \u001b[1;33m=\u001b[0m \u001b[0mhook\u001b[0m\u001b[1;33m(\u001b[0m\u001b[0mself\u001b[0m\u001b[1;33m,\u001b[0m \u001b[0minput\u001b[0m\u001b[1;33m,\u001b[0m \u001b[0mresult\u001b[0m\u001b[1;33m)\u001b[0m\u001b[1;33m\u001b[0m\u001b[0m\n",
      "\u001b[1;32m<ipython-input-40-9c56c71eb8a1>\u001b[0m in \u001b[0;36mforward\u001b[1;34m(self, state)\u001b[0m\n\u001b[0;32m     19\u001b[0m         \u001b[0mx\u001b[0m \u001b[1;33m=\u001b[0m \u001b[0mstate\u001b[0m\u001b[1;33m\u001b[0m\u001b[0m\n\u001b[0;32m     20\u001b[0m         \u001b[1;32mfor\u001b[0m \u001b[0ml\u001b[0m\u001b[1;33m,\u001b[0m \u001b[0mactivation\u001b[0m \u001b[1;32min\u001b[0m \u001b[0mzip\u001b[0m\u001b[1;33m(\u001b[0m\u001b[0mself\u001b[0m\u001b[1;33m.\u001b[0m\u001b[0mlayers\u001b[0m\u001b[1;33m,\u001b[0m \u001b[0mself\u001b[0m\u001b[1;33m.\u001b[0m\u001b[0mactivations\u001b[0m\u001b[1;33m)\u001b[0m\u001b[1;33m:\u001b[0m\u001b[1;33m\u001b[0m\u001b[0m\n\u001b[1;32m---> 21\u001b[1;33m             \u001b[0mx\u001b[0m \u001b[1;33m=\u001b[0m \u001b[0ml\u001b[0m\u001b[1;33m(\u001b[0m\u001b[0mx\u001b[0m\u001b[1;33m)\u001b[0m\u001b[1;33m\u001b[0m\u001b[0m\n\u001b[0m\u001b[0;32m     22\u001b[0m             \u001b[0mx\u001b[0m \u001b[1;33m=\u001b[0m \u001b[0mactivation\u001b[0m\u001b[1;33m(\u001b[0m\u001b[0mx\u001b[0m\u001b[1;33m)\u001b[0m\u001b[1;33m\u001b[0m\u001b[0m\n\u001b[0;32m     23\u001b[0m         \u001b[1;32mreturn\u001b[0m \u001b[0mx\u001b[0m\u001b[1;33m\u001b[0m\u001b[0m\n",
      "\u001b[1;32m~\\Anaconda3\\lib\\site-packages\\torch\\nn\\modules\\module.py\u001b[0m in \u001b[0;36m__call__\u001b[1;34m(self, *input, **kwargs)\u001b[0m\n\u001b[0;32m    530\u001b[0m             \u001b[0mresult\u001b[0m \u001b[1;33m=\u001b[0m \u001b[0mself\u001b[0m\u001b[1;33m.\u001b[0m\u001b[0m_slow_forward\u001b[0m\u001b[1;33m(\u001b[0m\u001b[1;33m*\u001b[0m\u001b[0minput\u001b[0m\u001b[1;33m,\u001b[0m \u001b[1;33m**\u001b[0m\u001b[0mkwargs\u001b[0m\u001b[1;33m)\u001b[0m\u001b[1;33m\u001b[0m\u001b[0m\n\u001b[0;32m    531\u001b[0m         \u001b[1;32melse\u001b[0m\u001b[1;33m:\u001b[0m\u001b[1;33m\u001b[0m\u001b[0m\n\u001b[1;32m--> 532\u001b[1;33m             \u001b[0mresult\u001b[0m \u001b[1;33m=\u001b[0m \u001b[0mself\u001b[0m\u001b[1;33m.\u001b[0m\u001b[0mforward\u001b[0m\u001b[1;33m(\u001b[0m\u001b[1;33m*\u001b[0m\u001b[0minput\u001b[0m\u001b[1;33m,\u001b[0m \u001b[1;33m**\u001b[0m\u001b[0mkwargs\u001b[0m\u001b[1;33m)\u001b[0m\u001b[1;33m\u001b[0m\u001b[0m\n\u001b[0m\u001b[0;32m    533\u001b[0m         \u001b[1;32mfor\u001b[0m \u001b[0mhook\u001b[0m \u001b[1;32min\u001b[0m \u001b[0mself\u001b[0m\u001b[1;33m.\u001b[0m\u001b[0m_forward_hooks\u001b[0m\u001b[1;33m.\u001b[0m\u001b[0mvalues\u001b[0m\u001b[1;33m(\u001b[0m\u001b[1;33m)\u001b[0m\u001b[1;33m:\u001b[0m\u001b[1;33m\u001b[0m\u001b[0m\n\u001b[0;32m    534\u001b[0m             \u001b[0mhook_result\u001b[0m \u001b[1;33m=\u001b[0m \u001b[0mhook\u001b[0m\u001b[1;33m(\u001b[0m\u001b[0mself\u001b[0m\u001b[1;33m,\u001b[0m \u001b[0minput\u001b[0m\u001b[1;33m,\u001b[0m \u001b[0mresult\u001b[0m\u001b[1;33m)\u001b[0m\u001b[1;33m\u001b[0m\u001b[0m\n",
      "\u001b[1;32m~\\Anaconda3\\lib\\site-packages\\torch\\nn\\modules\\linear.py\u001b[0m in \u001b[0;36mforward\u001b[1;34m(self, input)\u001b[0m\n\u001b[0;32m     85\u001b[0m \u001b[1;33m\u001b[0m\u001b[0m\n\u001b[0;32m     86\u001b[0m     \u001b[1;32mdef\u001b[0m \u001b[0mforward\u001b[0m\u001b[1;33m(\u001b[0m\u001b[0mself\u001b[0m\u001b[1;33m,\u001b[0m \u001b[0minput\u001b[0m\u001b[1;33m)\u001b[0m\u001b[1;33m:\u001b[0m\u001b[1;33m\u001b[0m\u001b[0m\n\u001b[1;32m---> 87\u001b[1;33m         \u001b[1;32mreturn\u001b[0m \u001b[0mF\u001b[0m\u001b[1;33m.\u001b[0m\u001b[0mlinear\u001b[0m\u001b[1;33m(\u001b[0m\u001b[0minput\u001b[0m\u001b[1;33m,\u001b[0m \u001b[0mself\u001b[0m\u001b[1;33m.\u001b[0m\u001b[0mweight\u001b[0m\u001b[1;33m,\u001b[0m \u001b[0mself\u001b[0m\u001b[1;33m.\u001b[0m\u001b[0mbias\u001b[0m\u001b[1;33m)\u001b[0m\u001b[1;33m\u001b[0m\u001b[0m\n\u001b[0m\u001b[0;32m     88\u001b[0m \u001b[1;33m\u001b[0m\u001b[0m\n\u001b[0;32m     89\u001b[0m     \u001b[1;32mdef\u001b[0m \u001b[0mextra_repr\u001b[0m\u001b[1;33m(\u001b[0m\u001b[0mself\u001b[0m\u001b[1;33m)\u001b[0m\u001b[1;33m:\u001b[0m\u001b[1;33m\u001b[0m\u001b[0m\n",
      "\u001b[1;32m~\\Anaconda3\\lib\\site-packages\\torch\\nn\\functional.py\u001b[0m in \u001b[0;36mlinear\u001b[1;34m(input, weight, bias)\u001b[0m\n\u001b[0;32m   1368\u001b[0m     \u001b[1;32mif\u001b[0m \u001b[0minput\u001b[0m\u001b[1;33m.\u001b[0m\u001b[0mdim\u001b[0m\u001b[1;33m(\u001b[0m\u001b[1;33m)\u001b[0m \u001b[1;33m==\u001b[0m \u001b[1;36m2\u001b[0m \u001b[1;32mand\u001b[0m \u001b[0mbias\u001b[0m \u001b[1;32mis\u001b[0m \u001b[1;32mnot\u001b[0m \u001b[1;32mNone\u001b[0m\u001b[1;33m:\u001b[0m\u001b[1;33m\u001b[0m\u001b[0m\n\u001b[0;32m   1369\u001b[0m         \u001b[1;31m# fused op is marginally faster\u001b[0m\u001b[1;33m\u001b[0m\u001b[1;33m\u001b[0m\u001b[0m\n\u001b[1;32m-> 1370\u001b[1;33m         \u001b[0mret\u001b[0m \u001b[1;33m=\u001b[0m \u001b[0mtorch\u001b[0m\u001b[1;33m.\u001b[0m\u001b[0maddmm\u001b[0m\u001b[1;33m(\u001b[0m\u001b[0mbias\u001b[0m\u001b[1;33m,\u001b[0m \u001b[0minput\u001b[0m\u001b[1;33m,\u001b[0m \u001b[0mweight\u001b[0m\u001b[1;33m.\u001b[0m\u001b[0mt\u001b[0m\u001b[1;33m(\u001b[0m\u001b[1;33m)\u001b[0m\u001b[1;33m)\u001b[0m\u001b[1;33m\u001b[0m\u001b[0m\n\u001b[0m\u001b[0;32m   1371\u001b[0m     \u001b[1;32melse\u001b[0m\u001b[1;33m:\u001b[0m\u001b[1;33m\u001b[0m\u001b[0m\n\u001b[0;32m   1372\u001b[0m         \u001b[0moutput\u001b[0m \u001b[1;33m=\u001b[0m \u001b[0minput\u001b[0m\u001b[1;33m.\u001b[0m\u001b[0mmatmul\u001b[0m\u001b[1;33m(\u001b[0m\u001b[0mweight\u001b[0m\u001b[1;33m.\u001b[0m\u001b[0mt\u001b[0m\u001b[1;33m(\u001b[0m\u001b[1;33m)\u001b[0m\u001b[1;33m)\u001b[0m\u001b[1;33m\u001b[0m\u001b[0m\n",
      "\u001b[1;31mKeyboardInterrupt\u001b[0m: "
     ],
     "output_type": "error"
    }
   ],
   "source": [
    "# 환경과 Agent 민들기\n",
    "env_name = \"Pendulum-v0\"\n",
    "env = gym.make(env_name)\n",
    "\n",
    "state_dim = env.observation_space.shape[0]\n",
    "action_dim = env.action_space.shape[0]\n",
    "\n",
    "action_low = env.action_space.low\n",
    "action_high = env.action_space.high\n",
    "\n",
    "agent = DDPGAgent(state_dim, action_dim, action_low, action_high)\n",
    "\n",
    "# 환경 변수\n",
    "MAX_EPISODES = 1300\n",
    "\n",
    "# Performance metric\n",
    "rewards = []\n",
    "critic_loss_traj = []\n",
    "actor_loss_traj = []\n",
    "\n",
    "for e in range(MAX_EPISODES):\n",
    "\n",
    "    state = env.reset()\n",
    "    episode_reward = 0\n",
    "    step = 0\n",
    "    critic_loss_epi = []\n",
    "    actor_loss_epi = []\n",
    "\n",
    "    while True:\n",
    "\n",
    "        state_input = torch.tensor(state, dtype=torch.float32)\n",
    "        action, action_norm = agent.get_action(state_input, step)\n",
    "\n",
    "        next_state, reward, done, info = env.step(action_norm)\n",
    "\n",
    "        transition = [state, action, reward, next_state, done]\n",
    "        agent.save_transition(transition)\n",
    "\n",
    "        state = next_state\n",
    "        episode_reward += reward\n",
    "\n",
    "        if agent.train_start():\n",
    "            critic_loss, actor_loss = agent.fit()\n",
    "            \n",
    "            critic_loss_epi.append(critic_loss)\n",
    "            actor_loss_epi.append(actor_loss)\n",
    "            \n",
    "        if done:\n",
    "            rewards.append(episode_reward)\n",
    "            critic_loss_traj += critic_loss_epi\n",
    "            actor_loss_traj += actor_loss_epi\n",
    "            \n",
    "            critic_mean = sum(critic_loss_epi) / len(critic_loss_epi)\n",
    "            actor_mean = sum(actor_loss_epi) / len(actor_loss_epi)\n",
    "            \n",
    "            print(\"episode : %4d, reward : % 4.3f, critic loss : %4.3f, actor loss : %4.3f\" % (e, rewards[-1], critic_mean, actor_mean))\n",
    "            break\n",
    "\n",
    "        step += 1"
   ]
  },
  {
   "cell_type": "markdown",
   "metadata": {},
   "source": [
    "## 학습 되었는지 확인하기 1\n",
    "- reward, critic loss, actor loss를 그려서 학습이 잘 되었는지 확인해 봅시다!"
   ]
  },
  {
   "cell_type": "code",
   "execution_count": 47,
   "metadata": {},
   "outputs": [
    {
     "data": {
      "image/png": "[encoded data removed]",
      "text/plain": [
       "<matplotlib.figure.Figure at 0x1b510b6e6d8>"
      ]
     },
     "metadata": {
      "needs_background": "light"
     },
     "output_type": "display_data"
    },
    {
     "data": {
      "image/png": "[encoded data removed]",
      "text/plain": [
       "<matplotlib.figure.Figure at 0x1b5107f97f0>"
      ]
     },
     "metadata": {
      "needs_background": "light"
     },
     "output_type": "display_data"
    },
    {
     "data": {
      "image/png": "[encoded data removed]",
      "text/plain": [
       "<matplotlib.figure.Figure at 0x1b5028b3668>"
      ]
     },
     "metadata": {
      "needs_background": "light"
     },
     "output_type": "display_data"
    }
   ],
   "source": [
    "import matplotlib.pyplot as plt\n",
    "\n",
    "plt.plot(rewards)\n",
    "plt.title('reward')\n",
    "plt.show()\n",
    "\n",
    "plt.plot(critic_loss_traj)\n",
    "plt.title('critic loss')\n",
    "plt.show()\n",
    "\n",
    "plt.plot(actor_loss_traj)\n",
    "plt.title('actor loss')\n",
    "plt.show()"
   ]
  },
  {
   "cell_type": "markdown",
   "metadata": {},
   "source": [
    "## 학습 되었는지 확인하기 2\n",
    "- 학습된 policy를 render 해보면서 잘 학습되었는지 확인해 봅시다!"
   ]
  },
  {
   "cell_type": "code",
   "execution_count": 48,
   "metadata": {},
   "outputs": [],
   "source": [
    "state = env.reset()\n",
    "\n",
    "while True:\n",
    "    \n",
    "    env.render()\n",
    "\n",
    "    state_input = torch.tensor(state, dtype=torch.float32)\n",
    "    \n",
    "    _, action_norm = agent.get_action(state_input)\n",
    "\n",
    "    state, _, done, _ = env.step(action_norm)\n",
    "\n",
    "    if done:\n",
    "        break\n",
    "\n",
    "env.close()"
   ]
  },
  {
   "cell_type": "code",
   "execution_count": null,
   "metadata": {},
   "outputs": [],
   "source": []
  }
 ],
 "metadata": {
  "kernelspec": {
   "display_name": "Python 3",
   "language": "python",
   "name": "python3"
  },
  "language_info": {
   "codemirror_mode": {
    "name": "ipython",
    "version": 3
   },
   "file_extension": ".py",
   "mimetype": "text/x-python",
   "name": "python",
   "nbconvert_exporter": "python",
   "pygments_lexer": "ipython3",
   "version": "3.6.1"
  }
 },
 "nbformat": 4,
 "nbformat_minor": 4
}
